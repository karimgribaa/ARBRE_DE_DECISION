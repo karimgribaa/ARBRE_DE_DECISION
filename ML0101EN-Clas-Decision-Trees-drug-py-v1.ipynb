{
 "cells": [
  {
   "cell_type": "markdown",
   "metadata": {
    "button": false,
    "deletable": true,
    "new_sheet": false,
    "run_control": {
     "read_only": false
    }
   },
    "source": [
    "<img src = \"Cognitive-Class-Logo.png\" width = 400, align = \"center\">\n",
    "\n",
    "# <center>K-Plus Proches Voisins</center>"
   ]
  },
  {
   "cell_type": "markdown",
   "metadata": {
    "button": false,
    "deletable": true,
    "new_sheet": false,
    "run_control": {
     "read_only": false
    }
   },
   "source": [
    "Dans cet exercice de laboratoire, vous apprendrez un algorithme d'apprentissage automatique populaire, l'arbre de décision. Vous utiliserez cet algorithme de classification pour créer un modèle à partir des données historiques des patients et de leur réponse aux différents médicaments. Ensuite, vous utilisez l'arbre de décision entraîné pour prédire la classe d'un patient inconnu ou pour trouver un médicament approprié pour un nouveau patient."
   ]
  },
  {
   "cell_type": "markdown",
   "metadata": {
    "button": false,
    "deletable": true,
    "new_sheet": false,
    "run_control": {
     "read_only": false
    }
   },
   "source": [
    "Importez les bibliothèques suivantes :\n",
    "<ul>\n",
    "    <li> <b>numpy (as np)</b> </li>\n",
    "    <li> <b>pandas</b> </li>\n",
    "    <li> <b>DecisionTreeClassifier</b> from <b>sklearn.tree</b> </li>\n",
    "</ul>"
   ]
  },
  {
   "cell_type": "code",
   "execution_count": 1,
   "metadata": {
    "button": false,
    "deletable": true,
    "new_sheet": false,
    "run_control": {
     "read_only": false
    }
   },
   "outputs": [],
   "source": [
    "import numpy as np \n",
    "import pandas as pd\n",
    "from sklearn.tree import DecisionTreeClassifier"
   ]
  },
  {
   "cell_type": "markdown",
   "metadata": {
    "button": false,
    "deletable": true,
    "new_sheet": false,
    "run_control": {
     "read_only": false
    }
   },
   "source": [
    "### À propos de l'ensemble de données\n",
    "Imaginez que vous êtes un chercheur médical qui compile des données pour une étude. Vous avez collecté des données sur un ensemble de patients, qui souffraient tous de la même maladie. Au cours de leur traitement, chaque patient a répondu à l'un des 5 médicaments, Médicament A, Médicament B, Médicament c, Médicament x et y.\n",
    "\n",
    "Une partie de votre travail consiste à créer un modèle pour découvrir quel médicament pourrait être approprié pour un futur patient atteint de la même maladie. Les ensembles de caractéristiques de cet ensemble de données sont l'âge, le sexe, la tension artérielle et le cholestérol des patients, et la cible est le médicament auquel chaque patient a répondu.\n",
    "\n",
    "C'est un exemple de classificateur binaire, et vous pouvez utiliser la partie formation de l'ensemble de données\n",
    "pour construire un arbre de décision, puis l'utiliser pour prédire la classe d'un patient inconnu, ou pour le prescrire à un nouveau patient."
   ]
  },
  {
   "cell_type": "markdown",
   "metadata": {
    "button": false,
    "deletable": true,
    "new_sheet": false,
    "run_control": {
     "read_only": false
    }
   },
   "source": [
    "### Téléchargement de données\n",
    "Pour télécharger les données, nous utiliserons l'adresse suivante en cliquant sur le lien, ensuite nous copions le fichier excel téléchargé dans le localhost."
   ]
  },
  {
   "cell_type": "code",
   "execution_count": null,
   "metadata": {},
   "outputs": [],
   "source": [
    "https://s3-api.us-geo.objectstorage.softlayer.net/cf-courses-data/CognitiveClass/ML0101ENv3/labs/drug200.csv"
   ]
  },
  {
   "cell_type": "markdown",
   "metadata": {},
   "source": [
    "maintenant, lisez les données à l'aide du cadre de données pandas :"
   ]
  },
  {
   "cell_type": "code",
   "execution_count": 2,
   "metadata": {
    "button": false,
    "deletable": true,
    "new_sheet": false,
    "run_control": {
     "read_only": false
    }
   },
   "outputs": [
    {
     "data": {
      "text/html": [
       "<div>\n",
       "<style scoped>\n",
       "    .dataframe tbody tr th:only-of-type {\n",
       "        vertical-align: middle;\n",
       "    }\n",
       "\n",
       "    .dataframe tbody tr th {\n",
       "        vertical-align: top;\n",
       "    }\n",
       "\n",
       "    .dataframe thead th {\n",
       "        text-align: right;\n",
       "    }\n",
       "</style>\n",
       "<table border=\"1\" class=\"dataframe\">\n",
       "  <thead>\n",
       "    <tr style=\"text-align: right;\">\n",
       "      <th></th>\n",
       "      <th>Age</th>\n",
       "      <th>Sex</th>\n",
       "      <th>BP</th>\n",
       "      <th>Cholesterol</th>\n",
       "      <th>Na_to_K</th>\n",
       "      <th>Drug</th>\n",
       "    </tr>\n",
       "  </thead>\n",
       "  <tbody>\n",
       "    <tr>\n",
       "      <th>0</th>\n",
       "      <td>23</td>\n",
       "      <td>F</td>\n",
       "      <td>HIGH</td>\n",
       "      <td>HIGH</td>\n",
       "      <td>25.355</td>\n",
       "      <td>drugY</td>\n",
       "    </tr>\n",
       "    <tr>\n",
       "      <th>1</th>\n",
       "      <td>47</td>\n",
       "      <td>M</td>\n",
       "      <td>LOW</td>\n",
       "      <td>HIGH</td>\n",
       "      <td>13.093</td>\n",
       "      <td>drugC</td>\n",
       "    </tr>\n",
       "    <tr>\n",
       "      <th>2</th>\n",
       "      <td>47</td>\n",
       "      <td>M</td>\n",
       "      <td>LOW</td>\n",
       "      <td>HIGH</td>\n",
       "      <td>10.114</td>\n",
       "      <td>drugC</td>\n",
       "    </tr>\n",
       "    <tr>\n",
       "      <th>3</th>\n",
       "      <td>28</td>\n",
       "      <td>F</td>\n",
       "      <td>NORMAL</td>\n",
       "      <td>HIGH</td>\n",
       "      <td>7.798</td>\n",
       "      <td>drugX</td>\n",
       "    </tr>\n",
       "    <tr>\n",
       "      <th>4</th>\n",
       "      <td>61</td>\n",
       "      <td>F</td>\n",
       "      <td>LOW</td>\n",
       "      <td>HIGH</td>\n",
       "      <td>18.043</td>\n",
       "      <td>drugY</td>\n",
       "    </tr>\n",
       "  </tbody>\n",
       "</table>\n",
       "</div>"
      ],
      "text/plain": [
       "   Age Sex      BP Cholesterol  Na_to_K   Drug\n",
       "0   23   F    HIGH        HIGH   25.355  drugY\n",
       "1   47   M     LOW        HIGH   13.093  drugC\n",
       "2   47   M     LOW        HIGH   10.114  drugC\n",
       "3   28   F  NORMAL        HIGH    7.798  drugX\n",
       "4   61   F     LOW        HIGH   18.043  drugY"
      ]
     },
     "execution_count": 2,
     "metadata": {},
     "output_type": "execute_result"
    }
   ],
   "source": [
    "my_data = pd.read_csv(\"drug200.csv\", delimiter=\",\")\n",
    "my_data[0:5]"
   ]
  },
  {
   "cell_type": "markdown",
   "metadata": {
    "button": false,
    "deletable": true,
    "new_sheet": false,
    "run_control": {
     "read_only": false
    }
   },
   "source": [
    "## Practice \n",
    "What is the size of data? "
   ]
  },
  {
   "cell_type": "code",
   "execution_count": null,
   "metadata": {
    "button": false,
    "deletable": true,
    "new_sheet": false,
    "run_control": {
     "read_only": false
    }
   },
   "outputs": [],
   "source": [
    "# write your code here\n",
    "\n",
    "\n"
   ]
  },
  {
   "cell_type": "markdown",
   "metadata": {},
   "source": [
    "## Pré-traitement"
   ]
  },
  {
   "cell_type": "markdown",
   "metadata": {
    "button": false,
    "deletable": true,
    "new_sheet": false,
    "run_control": {
     "read_only": false
    }
   },
   "source": [
    "Supprimez la colonne contenant le nom de la cible car elle ne contient pas de valeurs numériques."
   ]
  },
  {
   "cell_type": "code",
   "execution_count": 3,
   "metadata": {},
   "outputs": [
    {
     "data": {
      "text/plain": [
       "array([[23, 'F', 'HIGH', 'HIGH', 25.355],\n",
       "       [47, 'M', 'LOW', 'HIGH', 13.093],\n",
       "       [47, 'M', 'LOW', 'HIGH', 10.113999999999999],\n",
       "       [28, 'F', 'NORMAL', 'HIGH', 7.797999999999999],\n",
       "       [61, 'F', 'LOW', 'HIGH', 18.043]], dtype=object)"
      ]
     },
     "execution_count": 3,
     "metadata": {},
     "output_type": "execute_result"
    }
   ],
   "source": [
    "X = my_data[['Age', 'Sex', 'BP', 'Cholesterol', 'Na_to_K']].values\n",
    "X[0:5]"
   ]
  },
  {
   "cell_type": "markdown",
   "metadata": {},
   "source": [
    "Comme vous pouvez le constater, certaines caractéristiques de cet ensemble de données sont catégoriques, telles que __Sex__ ou __BP__. Malheureusement, les arbres de décision Sklearn ne gèrent pas les variables catégorielles. Mais nous pouvons toujours convertir ces caractéristiques en valeurs numériques. __pandas.get_dummies()__\n",
    "converti la variable catégorielle en variables fictives/indicatrices."
   ]
  },
  {
   "cell_type": "code",
   "execution_count": 4,
   "metadata": {},
   "outputs": [
    {
     "data": {
      "text/plain": [
       "array([[23, 0, 0, 0, 25.355],\n",
       "       [47, 1, 1, 0, 13.093],\n",
       "       [47, 1, 1, 0, 10.113999999999999],\n",
       "       [28, 0, 2, 0, 7.797999999999999],\n",
       "       [61, 0, 1, 0, 18.043]], dtype=object)"
      ]
     },
     "execution_count": 4,
     "metadata": {},
     "output_type": "execute_result"
    }
   ],
   "source": [
    "from sklearn import preprocessing\n",
    "le_sex = preprocessing.LabelEncoder()\n",
    "le_sex.fit(['F','M'])\n",
    "X[:,1] = le_sex.transform(X[:,1]) \n",
    "\n",
    "\n",
    "le_BP = preprocessing.LabelEncoder()\n",
    "le_BP.fit([ 'LOW', 'NORMAL', 'HIGH'])\n",
    "X[:,2] = le_BP.transform(X[:,2])\n",
    "\n",
    "\n",
    "le_Chol = preprocessing.LabelEncoder()\n",
    "le_Chol.fit([ 'NORMAL', 'HIGH'])\n",
    "X[:,3] = le_Chol.transform(X[:,3]) \n",
    "\n",
    "X[0:5]\n"
   ]
  },
  {
   "cell_type": "markdown",
   "metadata": {},
   "source": [
    "Nous pouvons maintenant remplir la variable cible."
   ]
  },
  {
   "cell_type": "code",
   "execution_count": 5,
   "metadata": {
    "button": false,
    "deletable": true,
    "new_sheet": false,
    "run_control": {
     "read_only": false
    }
   },
   "outputs": [
    {
     "data": {
      "text/plain": [
       "0    drugY\n",
       "1    drugC\n",
       "2    drugC\n",
       "3    drugX\n",
       "4    drugY\n",
       "Name: Drug, dtype: object"
      ]
     },
     "execution_count": 5,
     "metadata": {},
     "output_type": "execute_result"
    }
   ],
   "source": [
    "y = my_data[\"Drug\"]\n",
    "y[0:5]"
   ]
  },
  {
   "cell_type": "markdown",
   "metadata": {
    "button": false,
    "deletable": true,
    "new_sheet": false,
    "run_control": {
     "read_only": false
    }
   },
   "source": [
    "---\n",
    "## Configuration de l'arbre de décision\n",
    "Nous utiliserons <b>train/test split</b> sur notre <b>arbre de décision</b>. Importons <b>train_test_split</b> depuis <b>sklearn.cross_validation</b>."
   ]
  },
  {
   "cell_type": "code",
   "execution_count": 6,
   "metadata": {
    "button": false,
    "deletable": true,
    "new_sheet": false,
    "run_control": {
     "read_only": false
    }
   },
   "outputs": [],
   "source": [
    "from sklearn.model_selection import train_test_split"
   ]
  },
  {
   "cell_type": "markdown",
   "metadata": {
    "button": false,
    "deletable": true,
    "new_sheet": false,
    "run_control": {
     "read_only": false
    }
   },
   "source": [
    "Maintenant, <b> train_test_split </b> renverra 4 paramètres différents. Nous les nommerons :<br>\n",
    "X_trainset, X_testset, y_trainset, y_testset <br> <br>\n",
    "Le <b> train_test_split </b> aura besoin des paramètres : <br>\n",
    "X, y, test_size=0.3 et random_state=3. <br> <br>\n",
    "Le <b>X</b> et <b>y</b> sont les tableaux requis avant la division, le <b>test_size</b> représente le rapport de l'ensemble de données de test et le <b>random_state</b> garantit que nous obtenons les mêmes fractionnements."
   ]
  },
  {
   "cell_type": "code",
   "execution_count": 7,
   "metadata": {
    "button": false,
    "deletable": true,
    "new_sheet": false,
    "run_control": {
     "read_only": false
    }
   },
   "outputs": [],
   "source": [
    "X_trainset, X_testset, y_trainset, y_testset = train_test_split(X, y, test_size=0.3, random_state=3)"
   ]
  },
  {
   "cell_type": "markdown",
   "metadata": {
    "button": false,
    "deletable": true,
    "new_sheet": false,
    "run_control": {
     "read_only": false
    }
   },
   "source": [
    "## Entraine toi\n",
    "Imprimez les dimensions de X_trainset et y_trainset. Assurez-vous que ces dimensions correspondent"
   ]
  },
  {
   "cell_type": "code",
   "execution_count": null,
   "metadata": {
    "button": false,
    "deletable": true,
    "new_sheet": false,
    "run_control": {
     "read_only": false
    }
   },
   "outputs": [],
   "source": [
    "# your code\n",
    "\n"
   ]
  },
  {
   "cell_type": "markdown",
   "metadata": {
    "button": false,
    "deletable": true,
    "new_sheet": false,
    "run_control": {
     "read_only": false
    }
   },
   "source": [
    "## La modélisation\n",
    "Nous allons d'abord créer une instance de <b>DecisionTreeClassifier</b> appelée <b>drugTree</b>.<br>\n",
    "À l'intérieur du classificateur, spécifiez <i> critère=\"entropie\" </i> afin que nous puissions voir le gain d'information de chaque nœud."
   ]
  },
  {
   "cell_type": "code",
   "execution_count": 8,
   "metadata": {
    "button": false,
    "deletable": true,
    "new_sheet": false,
    "run_control": {
     "read_only": false
    }
   },
   "outputs": [
    {
     "data": {
      "text/plain": [
       "DecisionTreeClassifier(criterion='entropy', max_depth=4)"
      ]
     },
     "execution_count": 8,
     "metadata": {},
     "output_type": "execute_result"
    }
   ],
   "source": [
    "drugTree = DecisionTreeClassifier(criterion=\"entropy\", max_depth = 4)\n",
    "drugTree # it shows the default parameters"
   ]
  },
  {
   "cell_type": "markdown",
   "metadata": {
    "button": false,
    "deletable": true,
    "new_sheet": false,
    "run_control": {
     "read_only": false
    }
   },
   "source": [
    "Ensuite, nous allons ajuster les données avec la matrice de caractéristiques d'entraînement <b> X_trainset </b> et le vecteur de réponse d'entraînement <b> y_trainset </b>"
   ]
  },
  {
   "cell_type": "code",
   "execution_count": 9,
   "metadata": {
    "button": false,
    "deletable": true,
    "new_sheet": false,
    "run_control": {
     "read_only": false
    }
   },
   "outputs": [
    {
     "data": {
      "text/plain": [
       "DecisionTreeClassifier(criterion='entropy', max_depth=4)"
      ]
     },
     "execution_count": 9,
     "metadata": {},
     "output_type": "execute_result"
    }
   ],
   "source": [
    "drugTree.fit(X_trainset,y_trainset)"
   ]
  },
  {
   "cell_type": "markdown",
   "metadata": {
    "button": false,
    "deletable": true,
    "new_sheet": false,
    "run_control": {
     "read_only": false
    }
   },
   "source": [
    "## Prédiction\n",
    "Faisons quelques <b>prédictions</b> sur l'ensemble de données de test et stockons-le dans une variable appelée <b>predTree</b>."
   ]
  },
  {
   "cell_type": "code",
   "execution_count": 11,
   "metadata": {
    "button": false,
    "deletable": true,
    "new_sheet": false,
    "run_control": {
     "read_only": false
    }
   },
   "outputs": [],
   "source": [
    "predTree = drugTree.predict(X_testset)"
   ]
  },
  {
   "cell_type": "markdown",
   "metadata": {
    "button": false,
    "deletable": true,
    "new_sheet": false,
    "run_control": {
     "read_only": false
    }
   },
   "source": [
    "Vous pouvez imprimer <b>predTree</b> et <b>y_testset</b> si vous souhaitez comparer visuellement la prédiction aux valeurs réelles."
   ]
  },
  {
   "cell_type": "code",
   "execution_count": 12,
   "metadata": {
    "button": false,
    "deletable": true,
    "new_sheet": false,
    "run_control": {
     "read_only": false
    },
    "scrolled": true
   },
   "outputs": [
    {
     "name": "stdout",
     "output_type": "stream",
     "text": [
      "['drugY' 'drugX' 'drugX' 'drugX' 'drugX']\n",
      "40     drugY\n",
      "51     drugX\n",
      "139    drugX\n",
      "197    drugX\n",
      "170    drugX\n",
      "Name: Drug, dtype: object\n"
     ]
    }
   ],
   "source": [
    "print (predTree [0:5])\n",
    "print (y_testset [0:5])\n"
   ]
  },
  {
   "cell_type": "markdown",
   "metadata": {
    "button": false,
    "deletable": true,
    "new_sheet": false,
    "run_control": {
     "read_only": false
    }
   },
   "source": [
    "## Évaluation\n",
    "Ensuite, importons __metrics__ depuis sklearn et vérifions l'exactitude de notre modèle."
   ]
  },
  {
   "cell_type": "code",
   "execution_count": 13,
   "metadata": {
    "button": false,
    "deletable": true,
    "new_sheet": false,
    "run_control": {
     "read_only": false
    }
   },
   "outputs": [
    {
     "name": "stdout",
     "output_type": "stream",
     "text": [
      "DecisionTrees's Accuracy:  0.9833333333333333\n"
     ]
    }
   ],
   "source": [
    "from sklearn import metrics\n",
    "import matplotlib.pyplot as plt\n",
    "print(\"DecisionTrees's Accuracy: \", metrics.accuracy_score(y_testset, predTree))"
   ]
  },
  {
   "cell_type": "markdown",
   "metadata": {
    "button": false,
    "deletable": true,
    "new_sheet": false,
    "run_control": {
     "read_only": false
    }
   },
   "source": [
    "Le __score de précision__ de la classification calcule la précision du sous-ensemble : l'ensemble d'étiquettes prédit pour un échantillon doit correspondre exactement à l'ensemble d'étiquettes correspondant dans y_true.\n",
    "\n",
    "Dans la classification multilabel, la fonction renvoie la précision du sous-ensemble. Si l'ensemble complet d'étiquettes prédites pour un échantillon correspond strictement au véritable ensemble d'étiquettes, la précision du sous-ensemble est de 1,0 ; sinon c'est 0.0."
   ]
  },
  {
   "cell_type": "markdown",
   "metadata": {
    "button": false,
    "deletable": true,
    "new_sheet": false,
    "run_control": {
     "read_only": false
    }
   },
   "source": [
    "## Entraine toi\n",
    "Pouvez-vous calculer le score de précision sans sklearn ?"
   ]
  },
  {
   "cell_type": "code",
   "execution_count": null,
   "metadata": {
    "button": false,
    "deletable": true,
    "new_sheet": false,
    "run_control": {
     "read_only": false
    }
   },
   "outputs": [],
   "source": [
    "# your code here\n",
    "\n"
   ]
  },
  {
   "cell_type": "markdown",
   "metadata": {},
   "source": [
    "## Visualisation"
   ]
  },
  {
   "cell_type": "code",
   "execution_count": 38,
   "metadata": {},
   "outputs": [],
   "source": [
    "from sklearn.tree import export_graphviz\n",
    "featureNames = my_data.columns[0:5]\n",
    "export_graphviz(drugTree,feature_names=featureNames, out_file=\"tree.dot\", class_names= np.unique(y_trainset),\n",
    "impurity=False, filled=True)"
   ]
  },
  {
   "cell_type": "code",
   "execution_count": 39,
   "metadata": {},
   "outputs": [
    {
     "data": {
      "image/svg+xml": [
       "<?xml version=\"1.0\" encoding=\"UTF-8\" standalone=\"no\"?>\r\n",
       "<!DOCTYPE svg PUBLIC \"-//W3C//DTD SVG 1.1//EN\"\r\n",
       " \"http://www.w3.org/Graphics/SVG/1.1/DTD/svg11.dtd\">\r\n",
       "<!-- Generated by graphviz version 2.38.0 (20140413.2041)\r\n",
       " -->\r\n",
       "<!-- Title: Tree Pages: 1 -->\r\n",
       "<svg width=\"631pt\" height=\"477pt\"\r\n",
       " viewBox=\"0.00 0.00 631.00 477.00\" xmlns=\"http://www.w3.org/2000/svg\" xmlns:xlink=\"http://www.w3.org/1999/xlink\">\r\n",
       "<g id=\"graph0\" class=\"graph\" transform=\"scale(1 1) rotate(0) translate(4 473)\">\r\n",
       "<title>Tree</title>\r\n",
       "<polygon fill=\"white\" stroke=\"none\" points=\"-4,4 -4,-473 627,-473 627,4 -4,4\"/>\r\n",
       "<!-- 0 -->\r\n",
       "<g id=\"node1\" class=\"node\"><title>0</title>\r\n",
       "<polygon fill=\"#f6bcea\" stroke=\"black\" points=\"476.5,-469 309.5,-469 309.5,-401 476.5,-401 476.5,-469\"/>\r\n",
       "<text text-anchor=\"middle\" x=\"393\" y=\"-453.8\" font-family=\"Times New Roman,serif\" font-size=\"14.00\">Na_to_K &lt;= 14.615</text>\r\n",
       "<text text-anchor=\"middle\" x=\"393\" y=\"-438.8\" font-family=\"Times New Roman,serif\" font-size=\"14.00\">samples = 140</text>\r\n",
       "<text text-anchor=\"middle\" x=\"393\" y=\"-423.8\" font-family=\"Times New Roman,serif\" font-size=\"14.00\">value = [16, 11, 11, 33, 69]</text>\r\n",
       "<text text-anchor=\"middle\" x=\"393\" y=\"-408.8\" font-family=\"Times New Roman,serif\" font-size=\"14.00\">class = drugY</text>\r\n",
       "</g>\r\n",
       "<!-- 1 -->\r\n",
       "<g id=\"node2\" class=\"node\"><title>1</title>\r\n",
       "<polygon fill=\"#c3c2f7\" stroke=\"black\" points=\"389.5,-365 228.5,-365 228.5,-297 389.5,-297 389.5,-365\"/>\r\n",
       "<text text-anchor=\"middle\" x=\"309\" y=\"-349.8\" font-family=\"Times New Roman,serif\" font-size=\"14.00\">BP &lt;= 0.5</text>\r\n",
       "<text text-anchor=\"middle\" x=\"309\" y=\"-334.8\" font-family=\"Times New Roman,serif\" font-size=\"14.00\">samples = 71</text>\r\n",
       "<text text-anchor=\"middle\" x=\"309\" y=\"-319.8\" font-family=\"Times New Roman,serif\" font-size=\"14.00\">value = [16, 11, 11, 33, 0]</text>\r\n",
       "<text text-anchor=\"middle\" x=\"309\" y=\"-304.8\" font-family=\"Times New Roman,serif\" font-size=\"14.00\">class = drugX</text>\r\n",
       "</g>\r\n",
       "<!-- 0&#45;&gt;1 -->\r\n",
       "<g id=\"edge1\" class=\"edge\"><title>0&#45;&gt;1</title>\r\n",
       "<path fill=\"none\" stroke=\"black\" d=\"M365.728,-400.884C358.465,-392.065 350.531,-382.43 342.958,-373.235\"/>\r\n",
       "<polygon fill=\"black\" stroke=\"black\" points=\"345.482,-370.794 336.423,-365.299 340.078,-375.244 345.482,-370.794\"/>\r\n",
       "<text text-anchor=\"middle\" x=\"334.015\" y=\"-386.483\" font-family=\"Times New Roman,serif\" font-size=\"14.00\">True</text>\r\n",
       "</g>\r\n",
       "<!-- 10 -->\r\n",
       "<g id=\"node11\" class=\"node\"><title>10</title>\r\n",
       "<polygon fill=\"#e539c0\" stroke=\"black\" points=\"548,-357.5 408,-357.5 408,-304.5 548,-304.5 548,-357.5\"/>\r\n",
       "<text text-anchor=\"middle\" x=\"478\" y=\"-342.3\" font-family=\"Times New Roman,serif\" font-size=\"14.00\">samples = 69</text>\r\n",
       "<text text-anchor=\"middle\" x=\"478\" y=\"-327.3\" font-family=\"Times New Roman,serif\" font-size=\"14.00\">value = [0, 0, 0, 0, 69]</text>\r\n",
       "<text text-anchor=\"middle\" x=\"478\" y=\"-312.3\" font-family=\"Times New Roman,serif\" font-size=\"14.00\">class = drugY</text>\r\n",
       "</g>\r\n",
       "<!-- 0&#45;&gt;10 -->\r\n",
       "<g id=\"edge10\" class=\"edge\"><title>0&#45;&gt;10</title>\r\n",
       "<path fill=\"none\" stroke=\"black\" d=\"M420.597,-400.884C430.037,-389.556 440.6,-376.88 450.066,-365.521\"/>\r\n",
       "<polygon fill=\"black\" stroke=\"black\" points=\"453.02,-367.443 456.733,-357.52 447.643,-362.962 453.02,-367.443\"/>\r\n",
       "<text text-anchor=\"middle\" x=\"458.997\" y=\"-378.717\" font-family=\"Times New Roman,serif\" font-size=\"14.00\">False</text>\r\n",
       "</g>\r\n",
       "<!-- 2 -->\r\n",
       "<g id=\"node3\" class=\"node\"><title>2</title>\r\n",
       "<polygon fill=\"#f7d8c1\" stroke=\"black\" points=\"300.5,-261 153.5,-261 153.5,-193 300.5,-193 300.5,-261\"/>\r\n",
       "<text text-anchor=\"middle\" x=\"227\" y=\"-245.8\" font-family=\"Times New Roman,serif\" font-size=\"14.00\">Age &lt;= 50.5</text>\r\n",
       "<text text-anchor=\"middle\" x=\"227\" y=\"-230.8\" font-family=\"Times New Roman,serif\" font-size=\"14.00\">samples = 27</text>\r\n",
       "<text text-anchor=\"middle\" x=\"227\" y=\"-215.8\" font-family=\"Times New Roman,serif\" font-size=\"14.00\">value = [16, 11, 0, 0, 0]</text>\r\n",
       "<text text-anchor=\"middle\" x=\"227\" y=\"-200.8\" font-family=\"Times New Roman,serif\" font-size=\"14.00\">class = drugA</text>\r\n",
       "</g>\r\n",
       "<!-- 1&#45;&gt;2 -->\r\n",
       "<g id=\"edge2\" class=\"edge\"><title>1&#45;&gt;2</title>\r\n",
       "<path fill=\"none\" stroke=\"black\" d=\"M282.377,-296.884C275.288,-288.065 267.542,-278.43 260.15,-269.235\"/>\r\n",
       "<polygon fill=\"black\" stroke=\"black\" points=\"262.764,-266.9 253.77,-261.299 257.308,-271.286 262.764,-266.9\"/>\r\n",
       "</g>\r\n",
       "<!-- 5 -->\r\n",
       "<g id=\"node6\" class=\"node\"><title>5</title>\r\n",
       "<polygon fill=\"#7d7bee\" stroke=\"black\" points=\"465.5,-261 318.5,-261 318.5,-193 465.5,-193 465.5,-261\"/>\r\n",
       "<text text-anchor=\"middle\" x=\"392\" y=\"-245.8\" font-family=\"Times New Roman,serif\" font-size=\"14.00\">Cholesterol &lt;= 0.5</text>\r\n",
       "<text text-anchor=\"middle\" x=\"392\" y=\"-230.8\" font-family=\"Times New Roman,serif\" font-size=\"14.00\">samples = 44</text>\r\n",
       "<text text-anchor=\"middle\" x=\"392\" y=\"-215.8\" font-family=\"Times New Roman,serif\" font-size=\"14.00\">value = [0, 0, 11, 33, 0]</text>\r\n",
       "<text text-anchor=\"middle\" x=\"392\" y=\"-200.8\" font-family=\"Times New Roman,serif\" font-size=\"14.00\">class = drugX</text>\r\n",
       "</g>\r\n",
       "<!-- 1&#45;&gt;5 -->\r\n",
       "<g id=\"edge5\" class=\"edge\"><title>1&#45;&gt;5</title>\r\n",
       "<path fill=\"none\" stroke=\"black\" d=\"M335.948,-296.884C343.123,-288.065 350.964,-278.43 358.446,-269.235\"/>\r\n",
       "<polygon fill=\"black\" stroke=\"black\" points=\"361.307,-271.265 364.903,-261.299 355.877,-266.847 361.307,-271.265\"/>\r\n",
       "</g>\r\n",
       "<!-- 3 -->\r\n",
       "<g id=\"node4\" class=\"node\"><title>3</title>\r\n",
       "<polygon fill=\"#e58139\" stroke=\"black\" points=\"140,-149.5 0,-149.5 0,-96.5 140,-96.5 140,-149.5\"/>\r\n",
       "<text text-anchor=\"middle\" x=\"70\" y=\"-134.3\" font-family=\"Times New Roman,serif\" font-size=\"14.00\">samples = 16</text>\r\n",
       "<text text-anchor=\"middle\" x=\"70\" y=\"-119.3\" font-family=\"Times New Roman,serif\" font-size=\"14.00\">value = [16, 0, 0, 0, 0]</text>\r\n",
       "<text text-anchor=\"middle\" x=\"70\" y=\"-104.3\" font-family=\"Times New Roman,serif\" font-size=\"14.00\">class = drugA</text>\r\n",
       "</g>\r\n",
       "<!-- 2&#45;&gt;3 -->\r\n",
       "<g id=\"edge3\" class=\"edge\"><title>2&#45;&gt;3</title>\r\n",
       "<path fill=\"none\" stroke=\"black\" d=\"M176.027,-192.884C157.321,-180.731 136.228,-167.027 117.81,-155.061\"/>\r\n",
       "<polygon fill=\"black\" stroke=\"black\" points=\"119.573,-152.033 109.281,-149.52 115.76,-157.903 119.573,-152.033\"/>\r\n",
       "</g>\r\n",
       "<!-- 4 -->\r\n",
       "<g id=\"node5\" class=\"node\"><title>4</title>\r\n",
       "<polygon fill=\"#7be539\" stroke=\"black\" points=\"298,-149.5 158,-149.5 158,-96.5 298,-96.5 298,-149.5\"/>\r\n",
       "<text text-anchor=\"middle\" x=\"228\" y=\"-134.3\" font-family=\"Times New Roman,serif\" font-size=\"14.00\">samples = 11</text>\r\n",
       "<text text-anchor=\"middle\" x=\"228\" y=\"-119.3\" font-family=\"Times New Roman,serif\" font-size=\"14.00\">value = [0, 11, 0, 0, 0]</text>\r\n",
       "<text text-anchor=\"middle\" x=\"228\" y=\"-104.3\" font-family=\"Times New Roman,serif\" font-size=\"14.00\">class = drugB</text>\r\n",
       "</g>\r\n",
       "<!-- 2&#45;&gt;4 -->\r\n",
       "<g id=\"edge4\" class=\"edge\"><title>2&#45;&gt;4</title>\r\n",
       "<path fill=\"none\" stroke=\"black\" d=\"M227.325,-192.884C227.428,-182.326 227.543,-170.597 227.648,-159.854\"/>\r\n",
       "<polygon fill=\"black\" stroke=\"black\" points=\"231.152,-159.554 227.75,-149.52 224.152,-159.485 231.152,-159.554\"/>\r\n",
       "</g>\r\n",
       "<!-- 6 -->\r\n",
       "<g id=\"node7\" class=\"node\"><title>6</title>\r\n",
       "<polygon fill=\"#edfdfa\" stroke=\"black\" points=\"464.5,-157 317.5,-157 317.5,-89 464.5,-89 464.5,-157\"/>\r\n",
       "<text text-anchor=\"middle\" x=\"391\" y=\"-141.8\" font-family=\"Times New Roman,serif\" font-size=\"14.00\">BP &lt;= 1.5</text>\r\n",
       "<text text-anchor=\"middle\" x=\"391\" y=\"-126.8\" font-family=\"Times New Roman,serif\" font-size=\"14.00\">samples = 21</text>\r\n",
       "<text text-anchor=\"middle\" x=\"391\" y=\"-111.8\" font-family=\"Times New Roman,serif\" font-size=\"14.00\">value = [0, 0, 11, 10, 0]</text>\r\n",
       "<text text-anchor=\"middle\" x=\"391\" y=\"-96.8\" font-family=\"Times New Roman,serif\" font-size=\"14.00\">class = drugC</text>\r\n",
       "</g>\r\n",
       "<!-- 5&#45;&gt;6 -->\r\n",
       "<g id=\"edge6\" class=\"edge\"><title>5&#45;&gt;6</title>\r\n",
       "<path fill=\"none\" stroke=\"black\" d=\"M391.675,-192.884C391.596,-184.778 391.51,-175.982 391.426,-167.472\"/>\r\n",
       "<polygon fill=\"black\" stroke=\"black\" points=\"394.924,-167.265 391.326,-157.299 387.925,-167.333 394.924,-167.265\"/>\r\n",
       "</g>\r\n",
       "<!-- 9 -->\r\n",
       "<g id=\"node10\" class=\"node\"><title>9</title>\r\n",
       "<polygon fill=\"#3c39e5\" stroke=\"black\" points=\"623,-149.5 483,-149.5 483,-96.5 623,-96.5 623,-149.5\"/>\r\n",
       "<text text-anchor=\"middle\" x=\"553\" y=\"-134.3\" font-family=\"Times New Roman,serif\" font-size=\"14.00\">samples = 23</text>\r\n",
       "<text text-anchor=\"middle\" x=\"553\" y=\"-119.3\" font-family=\"Times New Roman,serif\" font-size=\"14.00\">value = [0, 0, 0, 23, 0]</text>\r\n",
       "<text text-anchor=\"middle\" x=\"553\" y=\"-104.3\" font-family=\"Times New Roman,serif\" font-size=\"14.00\">class = drugX</text>\r\n",
       "</g>\r\n",
       "<!-- 5&#45;&gt;9 -->\r\n",
       "<g id=\"edge9\" class=\"edge\"><title>5&#45;&gt;9</title>\r\n",
       "<path fill=\"none\" stroke=\"black\" d=\"M444.272,-192.884C463.541,-180.676 485.281,-166.903 504.228,-154.899\"/>\r\n",
       "<polygon fill=\"black\" stroke=\"black\" points=\"506.144,-157.828 512.719,-149.52 502.398,-151.915 506.144,-157.828\"/>\r\n",
       "</g>\r\n",
       "<!-- 7 -->\r\n",
       "<g id=\"node8\" class=\"node\"><title>7</title>\r\n",
       "<polygon fill=\"#39e5c5\" stroke=\"black\" points=\"382,-53 242,-53 242,-0 382,-0 382,-53\"/>\r\n",
       "<text text-anchor=\"middle\" x=\"312\" y=\"-37.8\" font-family=\"Times New Roman,serif\" font-size=\"14.00\">samples = 11</text>\r\n",
       "<text text-anchor=\"middle\" x=\"312\" y=\"-22.8\" font-family=\"Times New Roman,serif\" font-size=\"14.00\">value = [0, 0, 11, 0, 0]</text>\r\n",
       "<text text-anchor=\"middle\" x=\"312\" y=\"-7.8\" font-family=\"Times New Roman,serif\" font-size=\"14.00\">class = drugC</text>\r\n",
       "</g>\r\n",
       "<!-- 6&#45;&gt;7 -->\r\n",
       "<g id=\"edge7\" class=\"edge\"><title>6&#45;&gt;7</title>\r\n",
       "<path fill=\"none\" stroke=\"black\" d=\"M363.37,-88.9485C355.799,-79.892 347.586,-70.0682 339.995,-60.9875\"/>\r\n",
       "<polygon fill=\"black\" stroke=\"black\" points=\"342.614,-58.6641 333.515,-53.2367 337.244,-63.1538 342.614,-58.6641\"/>\r\n",
       "</g>\r\n",
       "<!-- 8 -->\r\n",
       "<g id=\"node9\" class=\"node\"><title>8</title>\r\n",
       "<polygon fill=\"#3c39e5\" stroke=\"black\" points=\"540,-53 400,-53 400,-0 540,-0 540,-53\"/>\r\n",
       "<text text-anchor=\"middle\" x=\"470\" y=\"-37.8\" font-family=\"Times New Roman,serif\" font-size=\"14.00\">samples = 10</text>\r\n",
       "<text text-anchor=\"middle\" x=\"470\" y=\"-22.8\" font-family=\"Times New Roman,serif\" font-size=\"14.00\">value = [0, 0, 0, 10, 0]</text>\r\n",
       "<text text-anchor=\"middle\" x=\"470\" y=\"-7.8\" font-family=\"Times New Roman,serif\" font-size=\"14.00\">class = drugX</text>\r\n",
       "</g>\r\n",
       "<!-- 6&#45;&gt;8 -->\r\n",
       "<g id=\"edge8\" class=\"edge\"><title>6&#45;&gt;8</title>\r\n",
       "<path fill=\"none\" stroke=\"black\" d=\"M418.63,-88.9485C426.201,-79.892 434.414,-70.0682 442.005,-60.9875\"/>\r\n",
       "<polygon fill=\"black\" stroke=\"black\" points=\"444.756,-63.1538 448.485,-53.2367 439.386,-58.6641 444.756,-63.1538\"/>\r\n",
       "</g>\r\n",
       "</g>\r\n",
       "</svg>\r\n"
      ],
      "text/plain": [
       "<graphviz.files.Source at 0x112c4b08>"
      ]
     },
     "execution_count": 39,
     "metadata": {},
     "output_type": "execute_result"
    }
   ],
   "source": [
    "import graphviz\n",
    "with open(\"tree.dot\") as f:\n",
    "    dot_graph = f.read()\n",
    "graphviz.Source(dot_graph)"
   ]
  },
  {
   "cell_type": "markdown",
   "metadata": {
    "button": false,
    "deletable": true,
    "new_sheet": false,
    "run_control": {
     "read_only": false
    }
   },
   "source": [
    "### Merci d'avoir terminé cette leçon !\n",
    "\n",
    "Carnet créé par : <a href = \"https://ca.linkedin.com/in/saeedaghabozorgi\">Saeed Aghabozorgi</a>\n",
    "\n",
    "<hr>\n",
    "Copyright &copy; 2018 [Cognitive Class](https://cocl.us/DX0108EN_CC). This notebook and its source code are released under the terms of the [MIT License](https://bigdatauniversity.com/mit-license/).​"
   ]
  }
 ],
 "metadata": {
  "anaconda-cloud": {},
  "kernelspec": {
   "display_name": "Python 3",
   "language": "python",
   "name": "python3"
  },
  "language_info": {
   "codemirror_mode": {
    "name": "ipython",
    "version": 3
   },
   "file_extension": ".py",
   "mimetype": "text/x-python",
   "name": "python",
   "nbconvert_exporter": "python",
   "pygments_lexer": "ipython3",
   "version": "3.8.5"
  },
  "widgets": {
   "state": {},
   "version": "1.1.2"
  }
 },
 "nbformat": 4,
 "nbformat_minor": 4
}
